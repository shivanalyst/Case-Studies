{
  "nbformat": 4,
  "nbformat_minor": 0,
  "metadata": {
    "colab": {
      "provenance": [],
      "include_colab_link": true
    },
    "kernelspec": {
      "name": "python3",
      "display_name": "Python 3"
    },
    "language_info": {
      "name": "python"
    }
  },
  "cells": [
    {
      "cell_type": "markdown",
      "metadata": {
        "id": "view-in-github",
        "colab_type": "text"
      },
      "source": [
        "<a href=\"https://colab.research.google.com/github/shivanalyst/Case-Studies/blob/main/SuperMart_Sales_Prediction.ipynb\" target=\"_parent\"><img src=\"https://colab.research.google.com/assets/colab-badge.svg\" alt=\"Open In Colab\"/></a>"
      ]
    },
    {
      "cell_type": "markdown",
      "metadata": {
        "id": "X-5nuBSEMEZF"
      },
      "source": [
        "#**BIGMART SUPERMARKET** Sales Prediction."
      ]
    },
    {
      "cell_type": "code",
      "metadata": {
        "id": "jiGJhY7R0oVJ"
      },
      "source": [
        "pip install pyforest"
      ],
      "execution_count": null,
      "outputs": []
    },
    {
      "cell_type": "code",
      "metadata": {
        "id": "ViP3lQetzo0y"
      },
      "source": [
        "from pyforest import*\n",
        "lazy_imports()"
      ],
      "execution_count": null,
      "outputs": []
    },
    {
      "cell_type": "code",
      "metadata": {
        "id": "YDo-GG2D0iHl"
      },
      "source": [
        "import warnings\n",
        "warnings.filterwarnings(\"ignore\")"
      ],
      "execution_count": null,
      "outputs": []
    },
    {
      "cell_type": "code",
      "metadata": {
        "colab": {
          "base_uri": "https://localhost:8080/",
          "height": 17
        },
        "id": "jQLqnk9-04rM",
        "outputId": "5424cc6d-60ed-42e9-f97e-b3d2ff63021f"
      },
      "source": [
        "Train_data=pd.read_csv('bigmart_train.csv')\n",
        "Test_data=pd.read_csv('bigmart_test.csv')"
      ],
      "execution_count": 17,
      "outputs": [
        {
          "output_type": "display_data",
          "data": {
            "text/plain": [
              "<IPython.core.display.Javascript object>"
            ],
            "application/javascript": [
              "\n",
              "        if (window._pyforest_update_imports_cell) { window._pyforest_update_imports_cell('import matplotlib.pyplot as plt\\nimport seaborn as sns\\nimport pandas as pd'); }\n",
              "    "
            ]
          },
          "metadata": {}
        },
        {
          "output_type": "display_data",
          "data": {
            "text/plain": [
              "<IPython.core.display.Javascript object>"
            ],
            "application/javascript": [
              "\n",
              "        if (window._pyforest_update_imports_cell) { window._pyforest_update_imports_cell('import matplotlib.pyplot as plt\\nimport seaborn as sns\\nimport pandas as pd'); }\n",
              "    "
            ]
          },
          "metadata": {}
        }
      ]
    },
    {
      "cell_type": "code",
      "metadata": {
        "id": "1PODkRlk1RLh",
        "colab": {
          "base_uri": "https://localhost:8080/",
          "height": 357
        },
        "outputId": "47ccff8e-a695-4a91-ab84-c8bf70080a11"
      },
      "source": [
        "Train_data.head()"
      ],
      "execution_count": 18,
      "outputs": [
        {
          "output_type": "execute_result",
          "data": {
            "text/plain": [
              "  Item_Identifier  Item_Weight Item_Fat_Content  Item_Visibility  \\\n",
              "0           FDA15         9.30          Low Fat         0.016047   \n",
              "1           DRC01         5.92          Regular         0.019278   \n",
              "2           FDN15        17.50          Low Fat         0.016760   \n",
              "3           FDX07        19.20          Regular         0.000000   \n",
              "4           NCD19         8.93          Low Fat         0.000000   \n",
              "\n",
              "               Item_Type  Item_MRP Outlet_Identifier  \\\n",
              "0                  Dairy  249.8092            OUT049   \n",
              "1            Soft Drinks   48.2692            OUT018   \n",
              "2                   Meat  141.6180            OUT049   \n",
              "3  Fruits and Vegetables  182.0950            OUT010   \n",
              "4              Household   53.8614            OUT013   \n",
              "\n",
              "   Outlet_Establishment_Year Outlet_Size Outlet_Location_Type  \\\n",
              "0                       1999      Medium               Tier 1   \n",
              "1                       2009      Medium               Tier 3   \n",
              "2                       1999      Medium               Tier 1   \n",
              "3                       1998         NaN               Tier 3   \n",
              "4                       1987        High               Tier 3   \n",
              "\n",
              "         Outlet_Type  Item_Outlet_Sales  \n",
              "0  Supermarket Type1          3735.1380  \n",
              "1  Supermarket Type2           443.4228  \n",
              "2  Supermarket Type1          2097.2700  \n",
              "3      Grocery Store           732.3800  \n",
              "4  Supermarket Type1           994.7052  "
            ],
            "text/html": [
              "\n",
              "  <div id=\"df-62a86134-bfdb-4df0-9bec-ef79f5c4fe07\">\n",
              "    <div class=\"colab-df-container\">\n",
              "      <div>\n",
              "<style scoped>\n",
              "    .dataframe tbody tr th:only-of-type {\n",
              "        vertical-align: middle;\n",
              "    }\n",
              "\n",
              "    .dataframe tbody tr th {\n",
              "        vertical-align: top;\n",
              "    }\n",
              "\n",
              "    .dataframe thead th {\n",
              "        text-align: right;\n",
              "    }\n",
              "</style>\n",
              "<table border=\"1\" class=\"dataframe\">\n",
              "  <thead>\n",
              "    <tr style=\"text-align: right;\">\n",
              "      <th></th>\n",
              "      <th>Item_Identifier</th>\n",
              "      <th>Item_Weight</th>\n",
              "      <th>Item_Fat_Content</th>\n",
              "      <th>Item_Visibility</th>\n",
              "      <th>Item_Type</th>\n",
              "      <th>Item_MRP</th>\n",
              "      <th>Outlet_Identifier</th>\n",
              "      <th>Outlet_Establishment_Year</th>\n",
              "      <th>Outlet_Size</th>\n",
              "      <th>Outlet_Location_Type</th>\n",
              "      <th>Outlet_Type</th>\n",
              "      <th>Item_Outlet_Sales</th>\n",
              "    </tr>\n",
              "  </thead>\n",
              "  <tbody>\n",
              "    <tr>\n",
              "      <th>0</th>\n",
              "      <td>FDA15</td>\n",
              "      <td>9.30</td>\n",
              "      <td>Low Fat</td>\n",
              "      <td>0.016047</td>\n",
              "      <td>Dairy</td>\n",
              "      <td>249.8092</td>\n",
              "      <td>OUT049</td>\n",
              "      <td>1999</td>\n",
              "      <td>Medium</td>\n",
              "      <td>Tier 1</td>\n",
              "      <td>Supermarket Type1</td>\n",
              "      <td>3735.1380</td>\n",
              "    </tr>\n",
              "    <tr>\n",
              "      <th>1</th>\n",
              "      <td>DRC01</td>\n",
              "      <td>5.92</td>\n",
              "      <td>Regular</td>\n",
              "      <td>0.019278</td>\n",
              "      <td>Soft Drinks</td>\n",
              "      <td>48.2692</td>\n",
              "      <td>OUT018</td>\n",
              "      <td>2009</td>\n",
              "      <td>Medium</td>\n",
              "      <td>Tier 3</td>\n",
              "      <td>Supermarket Type2</td>\n",
              "      <td>443.4228</td>\n",
              "    </tr>\n",
              "    <tr>\n",
              "      <th>2</th>\n",
              "      <td>FDN15</td>\n",
              "      <td>17.50</td>\n",
              "      <td>Low Fat</td>\n",
              "      <td>0.016760</td>\n",
              "      <td>Meat</td>\n",
              "      <td>141.6180</td>\n",
              "      <td>OUT049</td>\n",
              "      <td>1999</td>\n",
              "      <td>Medium</td>\n",
              "      <td>Tier 1</td>\n",
              "      <td>Supermarket Type1</td>\n",
              "      <td>2097.2700</td>\n",
              "    </tr>\n",
              "    <tr>\n",
              "      <th>3</th>\n",
              "      <td>FDX07</td>\n",
              "      <td>19.20</td>\n",
              "      <td>Regular</td>\n",
              "      <td>0.000000</td>\n",
              "      <td>Fruits and Vegetables</td>\n",
              "      <td>182.0950</td>\n",
              "      <td>OUT010</td>\n",
              "      <td>1998</td>\n",
              "      <td>NaN</td>\n",
              "      <td>Tier 3</td>\n",
              "      <td>Grocery Store</td>\n",
              "      <td>732.3800</td>\n",
              "    </tr>\n",
              "    <tr>\n",
              "      <th>4</th>\n",
              "      <td>NCD19</td>\n",
              "      <td>8.93</td>\n",
              "      <td>Low Fat</td>\n",
              "      <td>0.000000</td>\n",
              "      <td>Household</td>\n",
              "      <td>53.8614</td>\n",
              "      <td>OUT013</td>\n",
              "      <td>1987</td>\n",
              "      <td>High</td>\n",
              "      <td>Tier 3</td>\n",
              "      <td>Supermarket Type1</td>\n",
              "      <td>994.7052</td>\n",
              "    </tr>\n",
              "  </tbody>\n",
              "</table>\n",
              "</div>\n",
              "      <button class=\"colab-df-convert\" onclick=\"convertToInteractive('df-62a86134-bfdb-4df0-9bec-ef79f5c4fe07')\"\n",
              "              title=\"Convert this dataframe to an interactive table.\"\n",
              "              style=\"display:none;\">\n",
              "        \n",
              "  <svg xmlns=\"http://www.w3.org/2000/svg\" height=\"24px\"viewBox=\"0 0 24 24\"\n",
              "       width=\"24px\">\n",
              "    <path d=\"M0 0h24v24H0V0z\" fill=\"none\"/>\n",
              "    <path d=\"M18.56 5.44l.94 2.06.94-2.06 2.06-.94-2.06-.94-.94-2.06-.94 2.06-2.06.94zm-11 1L8.5 8.5l.94-2.06 2.06-.94-2.06-.94L8.5 2.5l-.94 2.06-2.06.94zm10 10l.94 2.06.94-2.06 2.06-.94-2.06-.94-.94-2.06-.94 2.06-2.06.94z\"/><path d=\"M17.41 7.96l-1.37-1.37c-.4-.4-.92-.59-1.43-.59-.52 0-1.04.2-1.43.59L10.3 9.45l-7.72 7.72c-.78.78-.78 2.05 0 2.83L4 21.41c.39.39.9.59 1.41.59.51 0 1.02-.2 1.41-.59l7.78-7.78 2.81-2.81c.8-.78.8-2.07 0-2.86zM5.41 20L4 18.59l7.72-7.72 1.47 1.35L5.41 20z\"/>\n",
              "  </svg>\n",
              "      </button>\n",
              "      \n",
              "  <style>\n",
              "    .colab-df-container {\n",
              "      display:flex;\n",
              "      flex-wrap:wrap;\n",
              "      gap: 12px;\n",
              "    }\n",
              "\n",
              "    .colab-df-convert {\n",
              "      background-color: #E8F0FE;\n",
              "      border: none;\n",
              "      border-radius: 50%;\n",
              "      cursor: pointer;\n",
              "      display: none;\n",
              "      fill: #1967D2;\n",
              "      height: 32px;\n",
              "      padding: 0 0 0 0;\n",
              "      width: 32px;\n",
              "    }\n",
              "\n",
              "    .colab-df-convert:hover {\n",
              "      background-color: #E2EBFA;\n",
              "      box-shadow: 0px 1px 2px rgba(60, 64, 67, 0.3), 0px 1px 3px 1px rgba(60, 64, 67, 0.15);\n",
              "      fill: #174EA6;\n",
              "    }\n",
              "\n",
              "    [theme=dark] .colab-df-convert {\n",
              "      background-color: #3B4455;\n",
              "      fill: #D2E3FC;\n",
              "    }\n",
              "\n",
              "    [theme=dark] .colab-df-convert:hover {\n",
              "      background-color: #434B5C;\n",
              "      box-shadow: 0px 1px 3px 1px rgba(0, 0, 0, 0.15);\n",
              "      filter: drop-shadow(0px 1px 2px rgba(0, 0, 0, 0.3));\n",
              "      fill: #FFFFFF;\n",
              "    }\n",
              "  </style>\n",
              "\n",
              "      <script>\n",
              "        const buttonEl =\n",
              "          document.querySelector('#df-62a86134-bfdb-4df0-9bec-ef79f5c4fe07 button.colab-df-convert');\n",
              "        buttonEl.style.display =\n",
              "          google.colab.kernel.accessAllowed ? 'block' : 'none';\n",
              "\n",
              "        async function convertToInteractive(key) {\n",
              "          const element = document.querySelector('#df-62a86134-bfdb-4df0-9bec-ef79f5c4fe07');\n",
              "          const dataTable =\n",
              "            await google.colab.kernel.invokeFunction('convertToInteractive',\n",
              "                                                     [key], {});\n",
              "          if (!dataTable) return;\n",
              "\n",
              "          const docLinkHtml = 'Like what you see? Visit the ' +\n",
              "            '<a target=\"_blank\" href=https://colab.research.google.com/notebooks/data_table.ipynb>data table notebook</a>'\n",
              "            + ' to learn more about interactive tables.';\n",
              "          element.innerHTML = '';\n",
              "          dataTable['output_type'] = 'display_data';\n",
              "          await google.colab.output.renderOutput(dataTable, element);\n",
              "          const docLink = document.createElement('div');\n",
              "          docLink.innerHTML = docLinkHtml;\n",
              "          element.appendChild(docLink);\n",
              "        }\n",
              "      </script>\n",
              "    </div>\n",
              "  </div>\n",
              "  "
            ]
          },
          "metadata": {},
          "execution_count": 18
        }
      ]
    },
    {
      "cell_type": "code",
      "metadata": {
        "id": "UYGDhDt91Teq"
      },
      "source": [
        "Test_data.head()"
      ],
      "execution_count": null,
      "outputs": []
    },
    {
      "cell_type": "markdown",
      "metadata": {
        "id": "mkcp6ETdES1G"
      },
      "source": [
        "#**Exploratory Data Analysis**"
      ]
    },
    {
      "cell_type": "code",
      "metadata": {
        "id": "U13JjU5e1Xdp"
      },
      "source": [
        "print('Train_data:',Train_data.shape)\n",
        "print('Test_data:',Test_data.shape)"
      ],
      "execution_count": null,
      "outputs": []
    },
    {
      "cell_type": "code",
      "metadata": {
        "id": "o0v6Q5Tu1x5K"
      },
      "source": [
        "Train_data.describe().T"
      ],
      "execution_count": null,
      "outputs": []
    },
    {
      "cell_type": "code",
      "metadata": {
        "id": "Lo3dC_7E132Z"
      },
      "source": [
        "Train_data.isnull().sum()"
      ],
      "execution_count": null,
      "outputs": []
    },
    {
      "cell_type": "code",
      "metadata": {
        "id": "nBvHimE-2CJT"
      },
      "source": [
        "Test_data.isnull().sum()"
      ],
      "execution_count": null,
      "outputs": []
    },
    {
      "cell_type": "code",
      "metadata": {
        "id": "AGS5i-0Z2MRT"
      },
      "source": [
        "Train_data['source'] = 'train'\n",
        "Test_data['source'] = 'test'\n",
        "df=pd.concat([Train_data,Test_data], ignore_index=True)"
      ],
      "execution_count": null,
      "outputs": []
    },
    {
      "cell_type": "code",
      "metadata": {
        "id": "Jwe7iP3x3Iur"
      },
      "source": [
        "df.head()"
      ],
      "execution_count": null,
      "outputs": []
    },
    {
      "cell_type": "code",
      "metadata": {
        "id": "J-sE3HQj3KCN"
      },
      "source": [
        "df.tail()"
      ],
      "execution_count": null,
      "outputs": []
    },
    {
      "cell_type": "code",
      "metadata": {
        "id": "hI1eicTs3WSH"
      },
      "source": [
        "df.isnull().sum()"
      ],
      "execution_count": null,
      "outputs": []
    },
    {
      "cell_type": "code",
      "metadata": {
        "id": "LKa04pMp3bWE"
      },
      "source": [
        "df.shape"
      ],
      "execution_count": null,
      "outputs": []
    },
    {
      "cell_type": "code",
      "metadata": {
        "id": "_zrt-tTu307c"
      },
      "source": [
        "for i in Train_data.describe().columns:\n",
        "  sns.distplot(Train_data[i].dropna())\n",
        "  plt.show()"
      ],
      "execution_count": null,
      "outputs": []
    },
    {
      "cell_type": "code",
      "metadata": {
        "id": "YUJXN4IK4Euv"
      },
      "source": [
        "for i in Train_data.describe().columns:\n",
        "  sns.boxplot(Train_data[i].dropna())\n",
        "  plt.show()"
      ],
      "execution_count": null,
      "outputs": []
    },
    {
      "cell_type": "code",
      "metadata": {
        "id": "D-3TTdCT4kN8"
      },
      "source": [
        "plt.figure(figsize=(15,10))\n",
        "sns.countplot(Train_data.Item_Type)\n",
        "plt.xticks(rotation=90)"
      ],
      "execution_count": null,
      "outputs": []
    },
    {
      "cell_type": "code",
      "metadata": {
        "id": "Byb2bS615MK4"
      },
      "source": [
        "Train_data.Item_Type.value_counts()"
      ],
      "execution_count": null,
      "outputs": []
    },
    {
      "cell_type": "markdown",
      "metadata": {
        "id": "JyEmfVXx5vlv"
      },
      "source": [
        "**Distribution of the outlet_Size**"
      ]
    },
    {
      "cell_type": "code",
      "metadata": {
        "id": "ZDD8Uert5jAW"
      },
      "source": [
        "plt.figure(figsize=(10,8))\n",
        "sns.countplot(Train_data.Outlet_Size)"
      ],
      "execution_count": null,
      "outputs": []
    },
    {
      "cell_type": "code",
      "metadata": {
        "id": "YeXy1iyt6CxZ"
      },
      "source": [
        "Train_data.Outlet_Size.value_counts()"
      ],
      "execution_count": null,
      "outputs": []
    },
    {
      "cell_type": "markdown",
      "metadata": {
        "id": "Mqyu4wPW6YTq"
      },
      "source": [
        "**Distribution of the Outlet_Location_Type**"
      ]
    },
    {
      "cell_type": "code",
      "metadata": {
        "id": "xO4LuzsA6OT5"
      },
      "source": [
        "plt.figure(figsize=(10,8))\n",
        "sns.countplot(Train_data.Outlet_Location_Type)"
      ],
      "execution_count": null,
      "outputs": []
    },
    {
      "cell_type": "code",
      "metadata": {
        "id": "_XnrtRe36hZF"
      },
      "source": [
        "Train_data.Outlet_Location_Type.value_counts()"
      ],
      "execution_count": null,
      "outputs": []
    },
    {
      "cell_type": "markdown",
      "metadata": {
        "id": "H5MwX8aY62KV"
      },
      "source": [
        "**Distribution of the Outlet_Type**"
      ]
    },
    {
      "cell_type": "code",
      "metadata": {
        "id": "0wfIU-Lb6qBR"
      },
      "source": [
        "plt.figure(figsize=(10,8))\n",
        "sns.countplot(Train_data.Outlet_Type)\n",
        "plt.xticks(rotation=10)"
      ],
      "execution_count": null,
      "outputs": []
    },
    {
      "cell_type": "code",
      "metadata": {
        "id": "cEur5EsQ7F6o"
      },
      "source": [
        "Train_data.Outlet_Type.value_counts()"
      ],
      "execution_count": null,
      "outputs": []
    },
    {
      "cell_type": "markdown",
      "metadata": {
        "id": "q5Lkyk1H9V42"
      },
      "source": [
        "**Item_Weight and Item_Outlet_Sales Analysis**"
      ]
    },
    {
      "cell_type": "code",
      "metadata": {
        "id": "RoQSOxRd7RT4"
      },
      "source": [
        "plt.figure(figsize=(13,9))\n",
        "plt.xlabel('Item_Weight')\n",
        "plt.ylabel('Item_Outlet_Sales')\n",
        "plt.title('Item_Weight and Item_Outlet_Sales Analysis')\n",
        "sns.scatterplot(x='Item_Weight', y='Item_Outlet_Sales',hue='Item_Type', size='Item_Weight',data=Train_data)"
      ],
      "execution_count": null,
      "outputs": []
    },
    {
      "cell_type": "markdown",
      "metadata": {
        "id": "bJF1-aPH-CNK"
      },
      "source": [
        "**Item_Visibility and Maximum Retail Price**"
      ]
    },
    {
      "cell_type": "code",
      "metadata": {
        "id": "WS159oJA9Qep"
      },
      "source": [
        "plt.figure(figsize=(12,7))\n",
        "plt.xlabel('Item_Visibility')\n",
        "plt.ylabel('Maximum Retail Price')\n",
        "plt.title('Item_Visibility and Maximum Retail Price')\n",
        "plt.plot(Train_data.Item_Visibility, Train_data.Item_MRP, \".\",alpha = 0.3)"
      ],
      "execution_count": null,
      "outputs": []
    },
    {
      "cell_type": "markdown",
      "metadata": {
        "id": "CEE90OYRAZJp"
      },
      "source": [
        "**Impact of Outlet_Type on Item_Outlet_Sales**"
      ]
    },
    {
      "cell_type": "code",
      "metadata": {
        "id": "FzsR8Tyo-VSd"
      },
      "source": [
        "Item_Type_pivot = \\\n",
        "Train_data.pivot_table(index='Outlet_Type', values=\"Item_Outlet_Sales\", aggfunc=np.median)\n",
        "\n",
        "Item_Type_pivot.plot(kind='bar',color='brown',figsize=(12,7))\n",
        "plt.xlabel('Outlet_Type')\n",
        "plt.ylabel(\"Item_Outlet_Sales\")\n",
        "plt.title(\"Impact of Outlet_Type on Item_Outlet_Sales\")\n",
        "plt.xticks(rotation=0)\n",
        "plt.show()"
      ],
      "execution_count": null,
      "outputs": []
    },
    {
      "cell_type": "markdown",
      "metadata": {
        "id": "ifGSlXMaA0QX"
      },
      "source": [
        "**Impact of Item_Fat_Content on Item_Outlet_Sales**"
      ]
    },
    {
      "cell_type": "code",
      "metadata": {
        "id": "AmCCb4yD8kge"
      },
      "source": [
        "Item_Type_pivot = \\\n",
        "Train_data.pivot_table(index='Item_Fat_Content', values=\"Item_Outlet_Sales\", aggfunc=np.median)\n",
        "\n",
        "Item_Type_pivot.plot(kind='bar',color='blue',figsize=(12,7))\n",
        "plt.xlabel('Item_Fat_Content')\n",
        "plt.ylabel(\"Item_Outlet_Sales\")\n",
        "plt.title(\"Impact of Item_Fat_Content on Item_Outlet_Sales\")\n",
        "plt.xticks(rotation=0)\n",
        "plt.show()"
      ],
      "execution_count": null,
      "outputs": []
    },
    {
      "cell_type": "code",
      "metadata": {
        "id": "l6DJ0CcXAugn"
      },
      "source": [
        "df['Item_Fat_Content'].value_counts()"
      ],
      "execution_count": null,
      "outputs": []
    },
    {
      "cell_type": "code",
      "metadata": {
        "id": "iYqmOQZKBBP8"
      },
      "source": [
        "df['Item_Fat_Content'] = df['Item_Fat_Content'].replace({'LF':'Low Fat','reg':'Regular','low fat':'Low Fat',})"
      ],
      "execution_count": null,
      "outputs": []
    },
    {
      "cell_type": "code",
      "metadata": {
        "id": "llQn-z3uBoAs"
      },
      "source": [
        "df['Item_Fat_Content'].value_counts()"
      ],
      "execution_count": null,
      "outputs": []
    },
    {
      "cell_type": "code",
      "metadata": {
        "id": "YVoLjlgFBtL9"
      },
      "source": [
        "Train_data['Item_Fat_Content'] = Train_data['Item_Fat_Content'].replace({'LF':'Low Fat','reg':'Regular','low fat':'Low Fat',})"
      ],
      "execution_count": null,
      "outputs": []
    },
    {
      "cell_type": "code",
      "metadata": {
        "id": "9f9uweahCDtA"
      },
      "source": [
        "Item_Fat_Content_pivot =\\\n",
        "Train_data.pivot_table(index='Item_Fat_Content',values='Item_Outlet_Sales',aggfunc=np.median)\n",
        "\n",
        "Item_Fat_Content_pivot.plot(kind='bar',color='blue',figsize=(12,7))\n",
        "plt.xlabel('Item_Fat_Content')\n",
        "plt.ylabel(\"Item_Outlet_Sales\")\n",
        "plt.title(\"Impact of Item_Fat_Content on Item_Outlet_Sales\")\n",
        "plt.xticks(rotation=0)\n",
        "plt.show()"
      ],
      "execution_count": null,
      "outputs": []
    },
    {
      "cell_type": "code",
      "metadata": {
        "id": "Iyg8NFl8C_t4"
      },
      "source": [
        "Train_data.corr()"
      ],
      "execution_count": null,
      "outputs": []
    },
    {
      "cell_type": "markdown",
      "metadata": {
        "id": "glBr1Ev9EAAA"
      },
      "source": [
        "**Correlation between different attributes**"
      ]
    },
    {
      "cell_type": "code",
      "metadata": {
        "id": "LIgBrxiPDNV5"
      },
      "source": [
        "plt.figure(figsize=(35,15))\n",
        "sns.heatmap(Train_data.corr(),vmax=1, square=True,annot=True, cmap='viridis')\n",
        "plt.title('Correlation between different attributes')\n",
        "plt.show()"
      ],
      "execution_count": null,
      "outputs": []
    },
    {
      "cell_type": "markdown",
      "metadata": {
        "id": "ZMwZWy4UEcNo"
      },
      "source": [
        "#**Feature Engineering , Selection and Transformation**"
      ]
    },
    {
      "cell_type": "markdown",
      "metadata": {
        "id": "2xNbukQWE1i0"
      },
      "source": [
        "##Treating The Missing Values"
      ]
    },
    {
      "cell_type": "markdown",
      "metadata": {
        "id": "ATl4Va2OE8SP"
      },
      "source": [
        "**Item_Weight**"
      ]
    },
    {
      "cell_type": "markdown",
      "metadata": {
        "id": "yEqx1FQUGY8y"
      },
      "source": [
        "From the boxplot we plotted at the beginning, we noticed that the **item_weight** column is approximately **normal** and it is therefore helpful to replace the missing values with the **Mean** of the column."
      ]
    },
    {
      "cell_type": "code",
      "metadata": {
        "id": "8bZBGTA6EiJI"
      },
      "source": [
        "df['Item_Weight'].mean() #we will replace the NaN values with this mean"
      ],
      "execution_count": null,
      "outputs": []
    },
    {
      "cell_type": "code",
      "metadata": {
        "id": "ONId5u7rGS4c"
      },
      "source": [
        "df['Item_Weight'].fillna(df['Item_Weight'].mean(), inplace=True) #missing values have been replaced with the mean using the fillna function."
      ],
      "execution_count": null,
      "outputs": []
    },
    {
      "cell_type": "markdown",
      "metadata": {
        "id": "y_Qm5jmlHhOE"
      },
      "source": [
        "**Outlet_Size**"
      ]
    },
    {
      "cell_type": "markdown",
      "metadata": {
        "id": "qlcbqjILH2gN"
      },
      "source": [
        "We will replace the missing values in **Outlet_Size** with the item that appears frequently, in this case **Meduim**."
      ]
    },
    {
      "cell_type": "code",
      "metadata": {
        "id": "qwhaxlArHkIY"
      },
      "source": [
        "df['Outlet_Size'].value_counts()"
      ],
      "execution_count": null,
      "outputs": []
    },
    {
      "cell_type": "code",
      "metadata": {
        "id": "l6ZJpHscIUKl"
      },
      "source": [
        "df['Outlet_Size'].fillna('Medium', inplace=True)"
      ],
      "execution_count": null,
      "outputs": []
    },
    {
      "cell_type": "code",
      "metadata": {
        "id": "SwsyjAA5Ibp0"
      },
      "source": [
        "df.isnull().sum() #now we do not have any null values in Outlet_Size"
      ],
      "execution_count": null,
      "outputs": []
    },
    {
      "cell_type": "code",
      "metadata": {
        "id": "8ivB-ht_IjEG"
      },
      "source": [
        "Train_data.shape"
      ],
      "execution_count": null,
      "outputs": []
    },
    {
      "cell_type": "code",
      "metadata": {
        "id": "jXQl7Gh6JUlB"
      },
      "source": [
        "Test_data.shape"
      ],
      "execution_count": null,
      "outputs": []
    },
    {
      "cell_type": "code",
      "metadata": {
        "id": "XhjygEazJYBw"
      },
      "source": [
        "df.shape"
      ],
      "execution_count": null,
      "outputs": []
    },
    {
      "cell_type": "markdown",
      "metadata": {
        "id": "zDzU_DVbRLQI"
      },
      "source": [
        "**Item_Visibility**"
      ]
    },
    {
      "cell_type": "code",
      "metadata": {
        "id": "pyNdoZnrJbHF"
      },
      "source": [
        "df[df['Item_Visibility']==0]['Item_Visibility'].count()"
      ],
      "execution_count": null,
      "outputs": []
    },
    {
      "cell_type": "code",
      "metadata": {
        "id": "e9hARXMqQ2ag"
      },
      "source": [
        "df['Item_Visibility'].fillna(df['Item_Visibility'].median(), inplace=True)"
      ],
      "execution_count": null,
      "outputs": []
    },
    {
      "cell_type": "markdown",
      "metadata": {
        "id": "9hJ7JpvzRWFE"
      },
      "source": [
        "**Outlet_Years**"
      ]
    },
    {
      "cell_type": "code",
      "metadata": {
        "id": "qyLt9KvWRX5V"
      },
      "source": [
        "df['Outlet_Establishment_Year'].value_counts()"
      ],
      "execution_count": null,
      "outputs": []
    },
    {
      "cell_type": "code",
      "metadata": {
        "id": "-7yqhL8rRd5o"
      },
      "source": [
        "df['Outlet_Years'] = 2009-df['Outlet_Establishment_Year']\n",
        "df['Outlet_Years'].describe()"
      ],
      "execution_count": null,
      "outputs": []
    },
    {
      "cell_type": "markdown",
      "metadata": {
        "id": "5pa6UvCi8hJh"
      },
      "source": [
        "**Item_Type**"
      ]
    },
    {
      "cell_type": "code",
      "metadata": {
        "id": "llwAIdzF8jk4"
      },
      "source": [
        "df['Item_Type'].value_counts()"
      ],
      "execution_count": null,
      "outputs": []
    },
    {
      "cell_type": "markdown",
      "metadata": {
        "id": "m7Pasdl7039N"
      },
      "source": [
        "**The item types are either Food, Drinks or Non-Consumables**"
      ]
    },
    {
      "cell_type": "code",
      "metadata": {
        "id": "f_WX5GBL0sK3"
      },
      "source": [
        "df['Item_Identifier'].value_counts()"
      ],
      "execution_count": null,
      "outputs": []
    },
    {
      "cell_type": "markdown",
      "metadata": {
        "id": "1IDzucoT2LuT"
      },
      "source": [
        "A closer look at each of the **Item_Identifier** shows that they with either **\"FD\", \"DR\"(Drinks), \"NC\"(Non-Consumables)**\n",
        "\n",
        "For us to do a better analysis, we will be creating 3 categories as pointed out instead of the already existing 16 categories."
      ]
    },
    {
      "cell_type": "code",
      "metadata": {
        "id": "wsfaW25A1YMI"
      },
      "source": [
        "#Changing only the first 2 characters (i.e. the category ID)\n",
        "\n",
        "df['New_Item_type'] = df['Item_Identifier'].apply(lambda x: x[0:2])"
      ],
      "execution_count": null,
      "outputs": []
    },
    {
      "cell_type": "code",
      "metadata": {
        "id": "-Vvf7DgM3Zgl"
      },
      "source": [
        "#Rename them to more intuitive  categories:\n",
        "\n",
        "df['New_Item_type'] = df['New_Item_type'].map({'FD':'Food','NC':'Non-Consumable','DR':'Drinks'})\n",
        "df['New_Item_type'].value_counts()"
      ],
      "execution_count": null,
      "outputs": []
    },
    {
      "cell_type": "markdown",
      "metadata": {
        "id": "Keiv8c6w4n2o"
      },
      "source": [
        "**If a product is non-consumable then why associate a fat-content to them? We will get rid of this.**"
      ]
    },
    {
      "cell_type": "code",
      "metadata": {
        "id": "lnMdsqg24Ru_"
      },
      "source": [
        "df.loc[df['New_Item_type']=='Non-Consumable','Item_Fat_Content']= \"Non-Edible\"\n",
        "df['Item_Fat_Content'].value_counts()"
      ],
      "execution_count": null,
      "outputs": []
    },
    {
      "cell_type": "markdown",
      "metadata": {
        "id": "yPimR4qx6F8-"
      },
      "source": [
        "Under normal circumstance, if a product is more visible, then it's likely it will be getting higher sales. We can based on that hypothesis and create importance given to a product in a given store according to the mean of significance given to the same product in all other stores."
      ]
    },
    {
      "cell_type": "code",
      "metadata": {
        "id": "_4hWXXDE5VAz"
      },
      "source": [
        "item_visib_avg = df.pivot_table(values='Item_Visibility', index='Item_Identifier')"
      ],
      "execution_count": null,
      "outputs": []
    },
    {
      "cell_type": "code",
      "metadata": {
        "id": "fgCbvkz_77dU"
      },
      "source": [
        "item_visib_avg"
      ],
      "execution_count": null,
      "outputs": []
    },
    {
      "cell_type": "code",
      "metadata": {
        "id": "9lS6fP_978-z"
      },
      "source": [
        "function = lambda x: x['Item_Visibility']/item_visib_avg['Item_Visibility'][item_visib_avg.index == x['Item_Identifier']][0]\n",
        "df['item_visib_avg'] = df.apply(function,axis=1).astype(float)"
      ],
      "execution_count": null,
      "outputs": []
    },
    {
      "cell_type": "code",
      "metadata": {
        "id": "A_XUf0BA9K8I"
      },
      "source": [
        "df.head()"
      ],
      "execution_count": null,
      "outputs": []
    },
    {
      "cell_type": "markdown",
      "metadata": {
        "id": "iqygU6O398sa"
      },
      "source": [
        "###**Dealing with our Categorical Variables**\n",
        "\n",
        "**Label Encoder**\n",
        "We will be converting all categorical variables into numeric types (Values of 0 or 1) using the LabelEncoder function since we cannot build model on them."
      ]
    },
    {
      "cell_type": "code",
      "metadata": {
        "id": "nE8hxy679aaZ"
      },
      "source": [
        "from sklearn.preprocessing import LabelEncoder\n",
        "label = LabelEncoder()\n",
        "\n",
        "#New variable for outlet\n",
        "df['Outlet'] = label.fit_transform(df['Outlet_Identifier'])\n",
        "varib = ['Item_Fat_Content','Outlet_Location_Type','Outlet_Size','New_Item_type','Outlet_Type','Outlet']\n",
        "for i in varib:\n",
        "  df[i] = label.fit_transform(df[i])\n"
      ],
      "execution_count": null,
      "outputs": []
    },
    {
      "cell_type": "code",
      "metadata": {
        "id": "giD242tA__cg"
      },
      "source": [
        "df.head()"
      ],
      "execution_count": null,
      "outputs": []
    },
    {
      "cell_type": "code",
      "metadata": {
        "id": "Gy4xxt_jAA8e"
      },
      "source": [
        "#Dummy Variables:\n",
        "\n",
        "df = pd.get_dummies(df, columns =['Item_Fat_Content','Outlet_Location_Type','Outlet_Size','New_Item_type','Outlet_Type','Outlet'])\n",
        "df.dtypes "
      ],
      "execution_count": null,
      "outputs": []
    },
    {
      "cell_type": "markdown",
      "metadata": {
        "id": "7yZeZ7wSDMj-"
      },
      "source": [
        "#**Model Building**"
      ]
    },
    {
      "cell_type": "code",
      "metadata": {
        "id": "Zqxj1UblDPd5"
      },
      "source": [
        "df.drop(['Item_Type','Outlet_Establishment_Year'],axis=1, inplace=True)"
      ],
      "execution_count": null,
      "outputs": []
    },
    {
      "cell_type": "code",
      "metadata": {
        "id": "AAOXo_NhD23I"
      },
      "source": [
        "train = df.loc[df['source'] == 'train']\n",
        "test = df.loc[df['source'] == 'test']"
      ],
      "execution_count": null,
      "outputs": []
    },
    {
      "cell_type": "code",
      "metadata": {
        "id": "Q2eEkSYmEQp_"
      },
      "source": [
        "train.drop(['source'],axis=1,inplace=True)"
      ],
      "execution_count": null,
      "outputs": []
    },
    {
      "cell_type": "code",
      "metadata": {
        "id": "KuqNtTRFEZU-"
      },
      "source": [
        "test.drop(['Item_Outlet_Sales','source'],axis=1,inplace=True)"
      ],
      "execution_count": null,
      "outputs": []
    },
    {
      "cell_type": "code",
      "metadata": {
        "id": "Zx5nD89nEwgU"
      },
      "source": [
        "X_train = train.drop(['Item_Outlet_Sales','Item_Identifier','Outlet_Identifier'],axis=1)\n",
        "y_train = train['Item_Outlet_Sales']\n",
        "X_test = test.drop(['Item_Identifier','Outlet_Identifier'],axis=1).copy()"
      ],
      "execution_count": null,
      "outputs": []
    },
    {
      "cell_type": "markdown",
      "metadata": {
        "id": "kjeeRpJ4F3pN"
      },
      "source": [
        "<br>\n",
        "\n",
        "##**Linear Regression**"
      ]
    },
    {
      "cell_type": "code",
      "metadata": {
        "id": "8IC3MvBfFlj0"
      },
      "source": [
        "from sklearn.linear_model import LinearRegression\n",
        "\n",
        "lr = LinearRegression(normalize=True)\n",
        "\n",
        "lr.fit(X_train,y_train)"
      ],
      "execution_count": null,
      "outputs": []
    },
    {
      "cell_type": "code",
      "metadata": {
        "id": "Zse4H2vLGS5M"
      },
      "source": [
        "lr_pred = lr.predict(X_test)"
      ],
      "execution_count": null,
      "outputs": []
    },
    {
      "cell_type": "code",
      "metadata": {
        "id": "hzCJ-9YpGbmx"
      },
      "source": [
        "lr_pred"
      ],
      "execution_count": null,
      "outputs": []
    },
    {
      "cell_type": "code",
      "metadata": {
        "id": "6iy-Hh1PGdVy"
      },
      "source": [
        "lr_accuracy = round(lr.score(X_train,y_train)*100)\n",
        "lr_accuracy"
      ],
      "execution_count": null,
      "outputs": []
    },
    {
      "cell_type": "markdown",
      "metadata": {
        "id": "2pjqbt-lHQuu"
      },
      "source": [
        "##**DecisionTreeRegressor**"
      ]
    },
    {
      "cell_type": "code",
      "metadata": {
        "id": "Vtl4y14ZG0w0"
      },
      "source": [
        "from sklearn.tree import DecisionTreeRegressor\n",
        "\n",
        "tree = DecisionTreeRegressor(max_depth=15, min_samples_leaf=100)\n",
        "\n",
        "tree.fit(X_train,y_train)\n",
        "tree_pred = tree.predict(X_test)"
      ],
      "execution_count": null,
      "outputs": []
    },
    {
      "cell_type": "code",
      "metadata": {
        "id": "viGb80yeIO1V"
      },
      "source": [
        "tree_pred"
      ],
      "execution_count": null,
      "outputs": []
    },
    {
      "cell_type": "code",
      "metadata": {
        "id": "IAE0KTHGHexN"
      },
      "source": [
        "tree_accuracy = round(tree.score(X_train,y_train)*100)\n",
        "tree_accuracy"
      ],
      "execution_count": null,
      "outputs": []
    },
    {
      "cell_type": "markdown",
      "metadata": {
        "id": "qmMt82MqIrB5"
      },
      "source": [
        "##**RandomForestRegressor**"
      ]
    },
    {
      "cell_type": "code",
      "metadata": {
        "id": "ObV3Gn7VID2E"
      },
      "source": [
        "from sklearn.ensemble import RandomForestRegressor\n",
        "\n",
        "rf = RandomForestRegressor(n_estimators=400,max_depth=6,min_samples_leaf=100,n_jobs=4)\n",
        "\n",
        "rf.fit(X_train,y_train)\n",
        "\n",
        "rf_accuracy = round(rf.score(X_train,y_train)*100)\n",
        "\n",
        "rf_accuracy"
      ],
      "execution_count": null,
      "outputs": []
    },
    {
      "cell_type": "markdown",
      "metadata": {
        "id": "OMG9dDu3J0Ii"
      },
      "source": [
        "##**XGBoost Regressor**"
      ]
    },
    {
      "cell_type": "code",
      "metadata": {
        "id": "B8yB62RrJfYt"
      },
      "source": [
        "from xgboost import XGBRegressor\n",
        "\n",
        "model = XGBRegressor(n_estimators = 100, learning_rate=0.05)\n",
        "model.fit(X_train, y_train)"
      ],
      "execution_count": null,
      "outputs": []
    },
    {
      "cell_type": "code",
      "metadata": {
        "id": "8uUgvUUTKNAg"
      },
      "source": [
        "y_pred = model.predict(X_test)\n",
        "y_pred"
      ],
      "execution_count": null,
      "outputs": []
    },
    {
      "cell_type": "code",
      "metadata": {
        "id": "qho9flKsKi-G"
      },
      "source": [
        "model.score(X_train, y_train)*100"
      ],
      "execution_count": null,
      "outputs": []
    },
    {
      "cell_type": "markdown",
      "metadata": {
        "id": "ZSNSruLuKzud"
      },
      "source": [
        "**NB**: Output might not be same all the time you run the code. It may go up or down. In the real world scenario, we save the model as soon we get the highest accuracy."
      ]
    },
    {
      "cell_type": "markdown",
      "source": [
        "------------- END OF PROJECT -------------"
      ],
      "metadata": {
        "id": "-4jytRUfJdqm"
      }
    }
  ]
}